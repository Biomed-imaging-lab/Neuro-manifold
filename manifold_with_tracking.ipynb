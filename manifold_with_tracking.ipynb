{
 "cells": [
  {
   "cell_type": "markdown",
   "metadata": {},
   "source": [
    "## Connecting libraries ##"
   ]
  },
  {
   "cell_type": "code",
   "execution_count": null,
   "metadata": {},
   "outputs": [],
   "source": [
    "import numpy as np\n",
    "import pandas as pd\n",
    "\n",
    "import matplotlib.pyplot as plt\n",
    "from matplotlib.patches import Ellipse\n",
    "import matplotlib.transforms as transforms\n",
    "\n",
    "from sklearn.metrics import precision_score, recall_score, f1_score, accuracy_score\n",
    "from sklearn.model_selection import train_test_split\n",
    "from sklearn.preprocessing import StandardScaler\n",
    "from sklearn.linear_model import LogisticRegression\n",
    "\n",
    "from data_manager import DataManager\n",
    "from rating_manager import RatingManager\n",
    "from manifold_manager import ManifoldManager"
   ]
  },
  {
   "cell_type": "markdown",
   "metadata": {},
   "source": [
    "## Functions ##"
   ]
  },
  {
   "cell_type": "markdown",
   "metadata": {},
   "source": [
    "### Functions for rendering ###"
   ]
  },
  {
   "cell_type": "code",
   "execution_count": null,
   "metadata": {},
   "outputs": [],
   "source": [
    "\n",
    "def plot_ellipsoid(ax, mean, cov, color, n_std=2):\n",
    "    pearson = cov[0, 1] / np.sqrt(cov[0, 0] * cov[1, 1])\n",
    "    ell_radius_x = np.sqrt(1 + pearson)\n",
    "    ell_radius_y = np.sqrt(1 - pearson)\n",
    "    ellipse = Ellipse((0, 0), width=ell_radius_x * 2, height=ell_radius_y * 2,\n",
    "                      facecolor=color, edgecolor='black', alpha=0.2)\n",
    "    \n",
    "    scale_x = np.sqrt(cov[0, 0]) * n_std\n",
    "    scale_y = np.sqrt(cov[1, 1]) * n_std\n",
    "    transf = transforms.Affine2D().rotate_deg(45).scale(scale_x, scale_y).translate(mean[0], mean[1])\n",
    "    ellipse.set_transform(transf + ax.transData)\n",
    "    ax.add_patch(ellipse)\n",
    "\n",
    "def plot_condition_data(data, ellipsoid_error=False,\n",
    "                        ellipsoid_cls='run',\n",
    "                        equal_limits = None,\n",
    "                        render_manifold=True,\n",
    "                        render_only_first_projection=False):\n",
    "    colors = plt.cm.viridis(np.linspace(0, 1, 3))\n",
    "    classes = ['sit', 'groom', 'run']\n",
    "\n",
    "    if render_manifold:\n",
    "\n",
    "        fig = plt.figure(figsize=(7, 5))\n",
    "        ax = fig.add_subplot(111, projection='3d')\n",
    "\n",
    "        for cls, color in zip(classes, colors):\n",
    "            subset = data[data['condition'] == cls]\n",
    "            ax.scatter(subset['C1'], subset['C2'], subset['C3'], color=color, label=f'Class {cls}')\n",
    "\n",
    "        ax.set_xlabel('С1')\n",
    "        ax.set_ylabel('С2')\n",
    "        ax.set_zlabel('С3')\n",
    "        ax.legend()\n",
    "        plt.savefig('man.png')\n",
    "        plt.show()\n",
    "\n",
    "\n",
    "    if render_only_first_projection:\n",
    "        fig, ax = plt.subplots(1, 1, figsize=(5, 5))\n",
    "        axs = [ax]\n",
    "    else:\n",
    "        fig, axs = plt.subplots(1, 3, figsize=(15, 5))\n",
    "\n",
    "    for cls, color in zip(classes, colors):\n",
    "        subset = data[data['condition'] == cls]\n",
    "        axs[0].scatter(subset['C1'], subset['C2'], color=color, label=f'Class {cls}')\n",
    "        \n",
    "        if ellipsoid_error and len(subset) > 1 and cls == ellipsoid_cls:\n",
    "            cov = np.cov(subset[['C1', 'C2']].T)\n",
    "            mean = subset[['C1', 'C2']].mean().values\n",
    "            plot_ellipsoid(axs[0], mean, cov, color)\n",
    "\n",
    "    axs[0].set_xlabel('C1')\n",
    "    axs[0].set_ylabel('C2')\n",
    "    axs[0].legend()\n",
    "\n",
    "    if render_only_first_projection:\n",
    "        axs[0].set_xlim(*equal_limits)\n",
    "        axs[0].set_ylim(*equal_limits)\n",
    "        return\n",
    "\n",
    "    for cls, color in zip(classes, colors):\n",
    "        subset = data[data['condition'] == cls]\n",
    "        axs[1].scatter(subset['C1'], subset['C3'], color=color, label=f'Class {cls}')\n",
    "        \n",
    "        if ellipsoid_error and len(subset) > 1 and cls == ellipsoid_cls:\n",
    "            cov = np.cov(subset[['C1', 'C3']].T)\n",
    "            mean = subset[['C1', 'C3']].mean().values\n",
    "            plot_ellipsoid(axs[1], mean, cov, color)\n",
    "\n",
    "    axs[1].set_xlabel('C1')\n",
    "    axs[1].set_ylabel('C3')\n",
    "    axs[1].legend()\n",
    "\n",
    "    for cls, color in zip(classes, colors):\n",
    "        subset = data[data['condition'] == cls]\n",
    "        axs[2].scatter(subset['C2'], subset['C3'], color=color, label=f'Class {cls}')\n",
    "        \n",
    "        if ellipsoid_error and len(subset) > 1 and cls == ellipsoid_cls:\n",
    "            cov = np.cov(subset[['C2', 'C3']].T)\n",
    "            mean = subset[['C2', 'C3']].mean().values\n",
    "            plot_ellipsoid(axs[2], mean, cov, color)\n",
    "\n",
    "    axs[2].set_xlabel('C2')\n",
    "    axs[2].set_ylabel('C3')\n",
    "    axs[2].legend()\n",
    "\n",
    "    if equal_limits:\n",
    "        for ax in axs:\n",
    "            ax.set_xlim(*equal_limits)\n",
    "            ax.set_ylim(*equal_limits)\n",
    "\n",
    "    plt.show()\n"
   ]
  },
  {
   "cell_type": "code",
   "execution_count": null,
   "metadata": {},
   "outputs": [],
   "source": [
    "def plot_polar_data(data):\n",
    "\n",
    "    fig = plt.figure(figsize=(7, 5))\n",
    "    ax = fig.add_subplot(111, projection='3d')\n",
    "    sc = ax.scatter(data['C1'], data['C2'], data['C3'], c=data['theta'], cmap='viridis')\n",
    "    ax.set_xlabel('C1')\n",
    "    ax.set_ylabel('C2')\n",
    "    ax.set_zlabel('C3')\n",
    "    ax.set_title('3D Plot')\n",
    "    fig.colorbar(sc, ax=ax, label='Parameter')\n",
    "\n",
    "\n",
    "    fig, axs = plt.subplots(1, 3, figsize=(15, 5))\n",
    "    sc_xy = axs[0].scatter(data['C1'], data['C2'], c=data['theta'], cmap='viridis')\n",
    "    axs[0].set_xlabel('C1')\n",
    "    axs[0].set_ylabel('C2')\n",
    "    axs[0].set_title('C1 C2 Projection')\n",
    "    fig.colorbar(sc_xy, ax=axs[0], label='Parameter')\n",
    "\n",
    "\n",
    "    sc_xz = axs[1].scatter(data['C1'], data['C3'], c=data['theta'], cmap='viridis')\n",
    "    axs[1].set_xlabel('C1')\n",
    "    axs[1].set_ylabel('C3')\n",
    "    axs[1].set_title('C1 C3 Projection')\n",
    "    fig.colorbar(sc_xz, ax=axs[1], label='Parameter')\n",
    "\n",
    "\n",
    "    sc_yz = axs[2].scatter(data['C2'], data['C3'], c=data['theta'], cmap='viridis')\n",
    "    axs[2].set_xlabel('C2')\n",
    "    axs[2].set_ylabel('C3')\n",
    "    axs[2].set_title('C2 C3 Projection')\n",
    "    fig.colorbar(sc_yz, ax=axs[2], label='Parameter')\n",
    "\n",
    "    plt.tight_layout()\n",
    "    plt.show()"
   ]
  },
  {
   "cell_type": "markdown",
   "metadata": {},
   "source": [
    "### Functions for calculating ellipse parameters ###"
   ]
  },
  {
   "cell_type": "code",
   "execution_count": null,
   "metadata": {},
   "outputs": [],
   "source": [
    "def calculate_square_from_data(data):\n",
    "    cov_matrix = np.cov(data, rowvar=False)\n",
    "\n",
    "    eigenvalues, _ = np.linalg.eigh(cov_matrix)\n",
    "\n",
    "    a = np.sqrt(max(eigenvalues))\n",
    "    b = np.sqrt(min(eigenvalues))\n",
    "\n",
    "    return a * b\n",
    "\n",
    "\n",
    "def calculate_eccentricity_from_data(data):\n",
    "    cov_matrix = np.cov(data, rowvar=False)\n",
    "    eigenvalues, _ = np.linalg.eigh(cov_matrix)\n",
    "\n",
    "    a = np.sqrt(max(eigenvalues))\n",
    "    b = np.sqrt(min(eigenvalues))\n",
    "\n",
    "    return (1 - (b ** 2 / a ** 2))**0.5\n",
    "\n",
    "def calculate_eccentricity_for_manifold(manifold):\n",
    "    return (\n",
    "        calculate_eccentricity_from_data(manifold[['C1', 'C2']]),\n",
    "        calculate_eccentricity_from_data(manifold[['C1', 'C3']]),\n",
    "        calculate_eccentricity_from_data(manifold[['C2', 'C3']])\n",
    "    )\n",
    "\n",
    "def calculate_square_for_manifold(manifold):\n",
    "    return (\n",
    "        calculate_square_from_data(manifold[['C1', 'C2']]),\n",
    "        calculate_square_from_data(manifold[['C1', 'C3']]),\n",
    "        calculate_square_from_data(manifold[['C2', 'C3']])\n",
    "    )"
   ]
  },
  {
   "cell_type": "markdown",
   "metadata": {},
   "source": [
    "### Functions for compressing state data series ###"
   ]
  },
  {
   "cell_type": "code",
   "execution_count": null,
   "metadata": {},
   "outputs": [],
   "source": [
    "def get_condition_sample_data(final_length, tracking): \n",
    "    missing_frames = 9000 - tracking.shape[0]\n",
    "    condition = pd.concat([\n",
    "        pd.Series(['' for i in range(missing_frames // 2)]),\n",
    "        tracking.loc[:, ['groom', 'run', 'sit', 'stand']].idxmax(axis=1).fillna(''),\n",
    "        pd.Series(['' for i in range(missing_frames // 2 + 1)])\n",
    "        ], ignore_index=True)\n",
    "    condition = pd.Series([condition[i*(9000 // final_length):(i+1)* (9000 // final_length)].mode()[0] for i in range(final_length)])\n",
    "    return condition.rename('condition')"
   ]
  },
  {
   "cell_type": "code",
   "execution_count": null,
   "metadata": {},
   "outputs": [],
   "source": [
    "def get_polar_sample_data(final_length, tracking): \n",
    "    missing_frames = 9000 - tracking.shape[0]\n",
    "    \n",
    "    r = pd.concat([\n",
    "        pd.Series([0 for i in range(missing_frames // 2)]),\n",
    "        pd.Series(np.sqrt(tracking['X, px']**2 + tracking['Y, px']**2)),\n",
    "        pd.Series([0 for i in range(missing_frames // 2 + 1)])\n",
    "        ], ignore_index=True)\n",
    "    \n",
    "    theta = pd.concat([\n",
    "        pd.Series([0 for i in range(missing_frames // 2)]),\n",
    "        pd.Series(np.degrees(np.arctan2(tracking['Y, px'], tracking['X, px']))),\n",
    "        pd.Series([0 for i in range(missing_frames // 2 + 1)])\n",
    "        ], ignore_index=True)\n",
    "\n",
    "    r = pd.Series([r[i*(9000 // final_length):(i+1)* (9000 // final_length)].mean() for i in range(final_length)])\n",
    "    theta = pd.Series([theta[i*(9000 // final_length):(i+1)* (9000 // final_length)].mean() for i in range(final_length)])\n",
    "    return pd.concat([r, theta], axis=1).rename(columns={0: 'r', 1: 'theta'})"
   ]
  },
  {
   "cell_type": "markdown",
   "metadata": {},
   "source": [
    "## Connecting data ##"
   ]
  },
  {
   "cell_type": "code",
   "execution_count": null,
   "metadata": {},
   "outputs": [],
   "source": [
    "WT_mice = [3, 5, 7, 106, 102, 109, 110]\n",
    "transgenic_mice_drug = [12, 13, 111, 115, 113, 114]\n",
    "transgenic_mice_without_drug = [1, 15, 16, 117, 123, 118]"
   ]
  },
  {
   "cell_type": "code",
   "execution_count": null,
   "metadata": {},
   "outputs": [],
   "source": [
    "WT_mice_dict = {3: [1, 2, 3, 4], 5: [1, 3, 4], 7:[1, 2, 3, 4], 102: [1, 2], 106: [1, 2], 109: [1, 2], 110: [2]}\n",
    "transgenic_mice_drug_dict = {12: [1, 2, 3, 4], 13: [1, 2, 3, 4], 111: [1, 2, 4], 113: [1, 2], 114:[2], 115: [1, 2, 4]}\n",
    "transgenic_mice_without_drug_dict = {1: [1, 2, 3, 4], 15: [1, 2, 3, 4], 16: [1, 2, 4], 117: [1, 2, 4], 118: [1, 2], 123: [1, 2]}\n",
    "\n",
    "mice = {}\n",
    "mice.update(WT_mice_dict)\n",
    "mice.update(transgenic_mice_drug_dict)\n",
    "mice.update(transgenic_mice_without_drug_dict)"
   ]
  },
  {
   "cell_type": "code",
   "execution_count": null,
   "metadata": {},
   "outputs": [],
   "source": [
    "data_manager = DataManager()\n",
    "for mouse, sessions in mice.items():\n",
    "    for session in sessions:\n",
    "        data_manager.load_data(f'data/alzheimer data/mouse {mouse}/session {session}/minian/C.zarr', mouse)\n",
    "    time_sample_size = 30"
   ]
  },
  {
   "cell_type": "code",
   "execution_count": null,
   "metadata": {},
   "outputs": [],
   "source": [
    "data_map = data_manager.get_time_split_data(time_sample_size, average_samples=False)"
   ]
  },
  {
   "cell_type": "code",
   "execution_count": null,
   "metadata": {},
   "outputs": [],
   "source": [
    "mice_tracking = {}\n",
    "for mouse, sessions in mice.items():\n",
    "    for session in sessions:\n",
    "        if mouse not in mice_tracking:\n",
    "            mice_tracking[mouse] = [pd.read_excel(f'data/mouse tracking/mouse{mouse}/session_{session}.xlsx')]\n",
    "        else:\n",
    "            mice_tracking[mouse].append(pd.read_excel(f'data/mouse tracking/mouse{mouse}/session_{session}.xlsx'))"
   ]
  },
  {
   "cell_type": "markdown",
   "metadata": {},
   "source": [
    "## Building manifolds and connecting to mouse behavior ##"
   ]
  },
  {
   "cell_type": "markdown",
   "metadata": {},
   "source": [
    "### Build once ###"
   ]
  },
  {
   "cell_type": "code",
   "execution_count": null,
   "metadata": {},
   "outputs": [],
   "source": [
    "manifold_manager = ManifoldManager()\n",
    "manifold_map = {}\n",
    "for tag, sessions in data_map.items():\n",
    "    for session in sessions:\n",
    "        if tag not in manifold_map:\n",
    "            manifold_map[tag] = [manifold_manager.t_SNE(session)]\n",
    "        else:\n",
    "            manifold_map[tag].append(manifold_manager.t_SNE(session))"
   ]
  },
  {
   "cell_type": "code",
   "execution_count": null,
   "metadata": {},
   "outputs": [],
   "source": [
    "data = {}\n",
    "for mouse, sessions in mice_tracking.items():\n",
    "    for i, session in enumerate(sessions):\n",
    "        mouse_tracking = pd.concat([pd.DataFrame(manifold_map[mouse][i], columns=['C1', 'C2', 'C3']),\n",
    "            get_condition_sample_data(manifold_map[mouse][i].shape[0], mice_tracking[mouse][i]),\n",
    "            get_polar_sample_data(manifold_map[mouse][i].shape[0], mice_tracking[mouse][i])\n",
    "            ], axis=1)\n",
    "        if mouse not in data:\n",
    "            data[mouse] = [mouse_tracking]\n",
    "        else:\n",
    "            data[mouse].append(mouse_tracking)\n",
    "            "
   ]
  },
  {
   "cell_type": "markdown",
   "metadata": {},
   "source": [
    "### Building manifolds several times, followed by averaging ###"
   ]
  },
  {
   "cell_type": "code",
   "execution_count": null,
   "metadata": {},
   "outputs": [],
   "source": [
    "from tqdm import tqdm\n",
    "\n",
    "rating_manager = RatingManager()\n",
    "\n",
    "square_data = {}\n",
    "eccentricities_data = {}\n",
    "intraclaster_data = {}\n",
    "\n",
    "for i in tqdm(range(1), desc='Processing'):\n",
    "    data_manager = DataManager()\n",
    "    for mouse, sessions in mice.items():\n",
    "        for session in sessions:\n",
    "            data_manager.load_data(f'data/alzheimer data/mouse {mouse}/session {session}/minian/C.zarr', mouse)\n",
    "\n",
    "    data_map = data_manager.get_time_split_data(time_sample_size, average_samples=False)\n",
    "    \n",
    "    time_sample_size = 30\n",
    "    manifold_manager = ManifoldManager()\n",
    "    manifold_map = {}\n",
    "    for tag, sessions in data_map.items():\n",
    "        for session in sessions:\n",
    "            if tag not in manifold_map:\n",
    "                manifold_map[tag] = [manifold_manager.t_SNE(session)]\n",
    "\n",
    "            else:\n",
    "                manifold_map[tag].append(manifold_manager.t_SNE(session))\n",
    "\n",
    "\n",
    "    data = {}\n",
    "    for mouse, sessions in mice_tracking.items():\n",
    "        for i, session in enumerate(sessions):\n",
    "            mouse_tracking = pd.concat([pd.DataFrame(manifold_map[mouse][i], columns=['C1', 'C2', 'C3']),\n",
    "                get_condition_sample_data(manifold_map[mouse][i].shape[0], mice_tracking[mouse][i]),\n",
    "                get_polar_sample_data(manifold_map[mouse][i].shape[0], mice_tracking[mouse][i])\n",
    "                ], axis=1)\n",
    "            if mouse not in data:\n",
    "                data[mouse] = [mouse_tracking]\n",
    "            else:\n",
    "                data[mouse].append(mouse_tracking)\n",
    "\n",
    "    for mouse, sessions in mice.items():\n",
    "        for i, session in enumerate(sessions):\n",
    "            condition = 'sit'\n",
    "\n",
    "            if data[mouse][i][data[mouse][i]['condition'] == condition].empty or \\\n",
    "            data[mouse][i][data[mouse][i]['condition'] == condition].shape[0] <= 1:\n",
    "                eccentricities = (0, 0, 0)\n",
    "                squares = (0, 0, 0)\n",
    "            else:\n",
    "                eccentricities = calculate_eccentricity_for_manifold(data[mouse][i][data[mouse][i]['condition'] == condition])\n",
    "                squares = calculate_square_for_manifold(data[mouse][i][data[mouse][i]['condition'] == condition])\n",
    "\n",
    "            intraclaster = rating_manager.intracluster_distance(data[mouse][i][['C1', 'C2', 'C3']])\n",
    "\n",
    "            \n",
    "            if mouse not in square_data:\n",
    "                square_data[mouse] = {session : [squares]}\n",
    "            elif session not in square_data[mouse]:\n",
    "                square_data[mouse][session] = [squares]\n",
    "            else:\n",
    "                square_data[mouse][session].append(squares)\n",
    "\n",
    "            if mouse not in eccentricities_data:\n",
    "                eccentricities_data[mouse] = {session : [eccentricities]}\n",
    "            elif session not in eccentricities_data[mouse]:\n",
    "                eccentricities_data[mouse][session] = [eccentricities]\n",
    "            else:\n",
    "                eccentricities_data[mouse][session].append(eccentricities)\n",
    "\n",
    "            if mouse not in intraclaster_data:\n",
    "                intraclaster_data[mouse] = {session : [intraclaster]}\n",
    "            elif session not in intraclaster_data[mouse]:\n",
    "                intraclaster_data[mouse][session] = [intraclaster]\n",
    "            else:\n",
    "                intraclaster_data[mouse][session].append(intraclaster)"
   ]
  },
  {
   "cell_type": "markdown",
   "metadata": {},
   "source": [
    " ### Getting a dataframe with values of eccentricities and areas for all mice for all iterations ###"
   ]
  },
  {
   "cell_type": "code",
   "execution_count": null,
   "metadata": {},
   "outputs": [],
   "source": [
    "def get_param_df(param_data):\n",
    "    param_df = []\n",
    "    for mouse_type, mice_num in [('wild', WT_mice), ('transgenic', transgenic_mice_without_drug), \n",
    "                                ('treated', transgenic_mice_drug)]:\n",
    "        for mouse_num in mice_num:\n",
    "            for session, param_session in param_data[mouse_num].items():\n",
    "                param_df.append(list(np.array(param_session).mean(axis=1)) + [mouse_type, mouse_num, session])\n",
    "\n",
    "    return pd.DataFrame(param_df).rename({10: 'type', 11: 'mouse_num', 12: 'session_num'}, axis=1)"
   ]
  },
  {
   "cell_type": "code",
   "execution_count": null,
   "metadata": {},
   "outputs": [],
   "source": [
    "square_df = get_param_df(square_data)"
   ]
  },
  {
   "cell_type": "code",
   "execution_count": null,
   "metadata": {},
   "outputs": [],
   "source": [
    "square_df.shape"
   ]
  },
  {
   "cell_type": "code",
   "execution_count": null,
   "metadata": {},
   "outputs": [],
   "source": [
    "square_df.to_excel(f'square_{condition}_exp_10.xlsx')"
   ]
  },
  {
   "cell_type": "code",
   "execution_count": null,
   "metadata": {},
   "outputs": [],
   "source": [
    "eccentricities_df = get_param_df(eccentricities_data)"
   ]
  },
  {
   "cell_type": "code",
   "execution_count": null,
   "metadata": {},
   "outputs": [],
   "source": [
    "eccentricities_df.to_excel(f'eccentricities_{condition}_exp_10.xlsx')"
   ]
  },
  {
   "cell_type": "markdown",
   "metadata": {},
   "source": [
    "## Building a dataframe with session attributes without averaging over iterations ##"
   ]
  },
  {
   "cell_type": "code",
   "execution_count": null,
   "metadata": {},
   "outputs": [],
   "source": [
    "feature_list_data = []\n",
    "for mouse, sessions in mice.items():\n",
    "    for session in sessions:\n",
    "        feature_list_data.append([mouse, session] +\n",
    "                                 intraclaster_data[mouse][session] +\n",
    "                                 list(np.mean(np.array(square_data[mouse][session]), axis=1)) +\n",
    "                                 list(np.mean(np.array(eccentricities_data[mouse][session]), axis=1))\n",
    "                                )\n",
    "                "
   ]
  },
  {
   "cell_type": "code",
   "execution_count": null,
   "metadata": {},
   "outputs": [],
   "source": [
    "columns_name_dict = {0: 'mouse', 1: 'session'}\n",
    "columns_name_dict.update({i: f'intraclaster_distance_{i - 2}' for i in range(2, 12)})\n",
    "columns_name_dict.update({i: f'square_{i - 12}' for i in range(12, 22)})\n",
    "columns_name_dict.update({i: f'eccentricity_{i - 22}' for i in range(22, 32)})\n",
    "\n",
    "feature_data = pd.DataFrame(feature_list_data).rename(columns_name_dict, axis=1)"
   ]
  },
  {
   "cell_type": "code",
   "execution_count": null,
   "metadata": {},
   "outputs": [],
   "source": [
    "def determine_mouse_type(mouse):\n",
    "    if mouse in transgenic_mice_without_drug:\n",
    "        return 'transgenic_without_drug'\n",
    "    elif mouse in transgenic_mice_drug:\n",
    "        return 'transgenic_with_drug'\n",
    "    elif mouse in WT_mice:\n",
    "        return 'wild'"
   ]
  },
  {
   "cell_type": "code",
   "execution_count": null,
   "metadata": {},
   "outputs": [],
   "source": [
    "feature_data['type'] = feature_data['mouse'].apply(determine_mouse_type)"
   ]
  },
  {
   "cell_type": "markdown",
   "metadata": {},
   "source": [
    "## Building a dataframe with session attributes by averaging all the results ##"
   ]
  },
  {
   "cell_type": "code",
   "execution_count": null,
   "metadata": {},
   "outputs": [],
   "source": [
    "feature_list_data = []\n",
    "for mouse, sessions in mice.items():\n",
    "    for session in sessions:\n",
    "        feature_list_data.append([mouse, session] +\n",
    "                                 list(np.mean(np.array(square_data[mouse][session]), axis=0)) +\n",
    "                                 list(np.mean(np.array(eccentricities_data[mouse][session]), axis=0)) +\n",
    "                                 [np.mean(np.array(intraclaster_data[mouse][session]))]\n",
    "                                )\n",
    "                "
   ]
  },
  {
   "cell_type": "code",
   "execution_count": null,
   "metadata": {},
   "outputs": [],
   "source": [
    "feature_data = pd.DataFrame(feature_list_data, columns=['mouse', 'session',\n",
    "                                                        'square_1', 'square_2',\n",
    "                                                        'square_3', 'eccentricities_1',\n",
    "                                                        'eccentricities_2', 'eccentricities_3',\n",
    "                                                        'intraclaster_distance'])"
   ]
  },
  {
   "cell_type": "code",
   "execution_count": null,
   "metadata": {},
   "outputs": [],
   "source": [
    "def determine_mouse_type(mouse):\n",
    "    if mouse in transgenic_mice_without_drug:\n",
    "        return 'transgenic_without_drug'\n",
    "    elif mouse in transgenic_mice_drug:\n",
    "        return 'transgenic_with_drug'\n",
    "    elif mouse in WT_mice:\n",
    "        return 'wild'"
   ]
  },
  {
   "cell_type": "code",
   "execution_count": null,
   "metadata": {},
   "outputs": [],
   "source": [
    "feature_data['type'] = feature_data['mouse'].apply(determine_mouse_type)"
   ]
  },
  {
   "cell_type": "code",
   "execution_count": null,
   "metadata": {},
   "outputs": [],
   "source": [
    "feature_data['eccentricities_mean'] = feature_data[['eccentricities_1', 'eccentricities_2', 'eccentricities_3']].mean(axis=1)\n",
    "feature_data['square_mean'] = feature_data[['square_1','square_2','square_3']].mean(axis=1)\n"
   ]
  },
  {
   "cell_type": "markdown",
   "metadata": {},
   "source": [
    "## Classification ##"
   ]
  },
  {
   "cell_type": "code",
   "execution_count": null,
   "metadata": {},
   "outputs": [],
   "source": [
    "feature_data_without_drug = feature_data[feature_data['type'] != 'transgenic_with_drug']\n",
    "feature_data_without_drug['type'] = feature_data_without_drug['type'].apply(lambda x: 0 if x == 'wild' else 1)"
   ]
  },
  {
   "cell_type": "code",
   "execution_count": null,
   "metadata": {},
   "outputs": [],
   "source": [
    "feature_data_without_transgenic = feature_data[feature_data['type'] != 'transgenic_without_drug']\n",
    "feature_data_without_transgenic['type'] = feature_data_without_transgenic['type'].apply(lambda x: 0 if x == 'wild' else 1)"
   ]
  },
  {
   "cell_type": "code",
   "execution_count": null,
   "metadata": {},
   "outputs": [],
   "source": [
    "feature_data_without_wild = feature_data[feature_data['type'] != 'wild']\n",
    "feature_data_without_wild['type'] = feature_data_without_wild['type'].apply(lambda x: 1 if x == 'transgenic_without_drug' else 0)"
   ]
  },
  {
   "cell_type": "code",
   "execution_count": null,
   "metadata": {},
   "outputs": [],
   "source": [
    "def train_classifier(feature_type_data, iteration=100):\n",
    "    result_df = []\n",
    "    for exp_num in range(1):\n",
    "        accuracy_score_list = []\n",
    "        precision_score_list = []\n",
    "        recall_score_list = []\n",
    "        f1_score_list = []\n",
    "\n",
    "\n",
    "        for i in range(iteration):\n",
    "            X_train, X_test, y_train, y_test = train_test_split(feature_type_data[['intraclaster_distance']],\n",
    "                                                        feature_type_data['type'],\n",
    "                                                        test_size=0.3,\n",
    "                                                        stratify=feature_type_data['type'])\n",
    "            scaler = StandardScaler()\n",
    "            X_train = scaler.fit_transform(X_train)\n",
    "            X_test = scaler.transform(X_test)\n",
    "            model = LogisticRegression()\n",
    "            model.fit(X_train, y_train)\n",
    "            y_pred = model.predict(X_test)\n",
    "\n",
    "            accuracy_score_list.append(accuracy_score(y_test, y_pred))\n",
    "            precision_score_list.append(precision_score(y_test, y_pred))\n",
    "            recall_score_list.append(recall_score(y_test, y_pred))\n",
    "            f1_score_list.append(f1_score(y_test, y_pred))\n",
    "        \n",
    "        result_df.append([exp_num + 1] + [np.mean(accuracy_score_list),\n",
    "                                                        np.mean(precision_score_list),\n",
    "                                                        np.mean(recall_score_list),\n",
    "                                                        np.mean(f1_score_list)\n",
    "                                                        ])\n",
    "    return pd.DataFrame(result_df).rename({0: 'exp_num', 1: 'accuracy', 2: 'precision',\n",
    "                                                3: 'recall', 4: 'f1'}, axis=1)"
   ]
  },
  {
   "cell_type": "markdown",
   "metadata": {},
   "source": [
    "**Разделение на трансгеных и пролеченных мышей:**"
   ]
  },
  {
   "cell_type": "code",
   "execution_count": null,
   "metadata": {},
   "outputs": [],
   "source": [
    "feature_data_without_wild.dropna(inplace=True)"
   ]
  },
  {
   "cell_type": "code",
   "execution_count": null,
   "metadata": {},
   "outputs": [],
   "source": [
    "trans_vs_treated_df = train_classifier(feature_data_without_wild)"
   ]
  },
  {
   "cell_type": "code",
   "execution_count": null,
   "metadata": {},
   "outputs": [],
   "source": [
    "trans_vs_treated_df.mean()"
   ]
  },
  {
   "cell_type": "markdown",
   "metadata": {},
   "source": [
    "**Разделение на трансгеных и диких мышей:**"
   ]
  },
  {
   "cell_type": "code",
   "execution_count": null,
   "metadata": {},
   "outputs": [],
   "source": [
    "feature_data_without_drug.dropna(inplace=True)"
   ]
  },
  {
   "cell_type": "code",
   "execution_count": null,
   "metadata": {},
   "outputs": [],
   "source": [
    "trans_vs_wild_df = train_classifier(feature_data_without_drug)"
   ]
  },
  {
   "cell_type": "code",
   "execution_count": null,
   "metadata": {},
   "outputs": [],
   "source": [
    "trans_vs_wild_df.mean()"
   ]
  },
  {
   "cell_type": "markdown",
   "metadata": {},
   "source": [
    "**Разделение на диких и пролеченных мышей:**"
   ]
  },
  {
   "cell_type": "code",
   "execution_count": null,
   "metadata": {},
   "outputs": [],
   "source": [
    "feature_data_without_transgenic.dropna(inplace=True)"
   ]
  },
  {
   "cell_type": "code",
   "execution_count": null,
   "metadata": {},
   "outputs": [],
   "source": [
    "wild_vs_treated_df = train_classifier(feature_data_without_transgenic)"
   ]
  },
  {
   "cell_type": "code",
   "execution_count": null,
   "metadata": {},
   "outputs": [],
   "source": [
    "wild_vs_treated_df.mean()"
   ]
  },
  {
   "cell_type": "markdown",
   "metadata": {},
   "source": [
    "## Building boxplots ##"
   ]
  },
  {
   "cell_type": "markdown",
   "metadata": {},
   "source": [
    "### Building boxplots by session ###"
   ]
  },
  {
   "cell_type": "code",
   "execution_count": null,
   "metadata": {},
   "outputs": [],
   "source": [
    "healthy_boxplot_data = []\n",
    "transgenic_boxplot_data = []\n",
    "drug_boxplot_data = []\n",
    "for mouse, sessions in square_data.items():\n",
    "    for session_num, session in sessions.items():\n",
    "        if mouse in transgenic_mice_without_drug:\n",
    "            transgenic_boxplot_data.append(np.mean((np.mean(session, axis=0))))\n",
    "\n",
    "for mouse, sessions in square_data.items():\n",
    "    for session_num, session in sessions.items():\n",
    "        if mouse in [12, 13, 111, 115]:\n",
    "            drug_boxplot_data.append(np.mean((np.mean(session, axis=0))))\n",
    "\n",
    "for mouse, sessions in square_data.items():\n",
    "    for session_num, session in sessions.items():\n",
    "        if mouse in WT_mice:\n",
    "            healthy_boxplot_data.append(np.mean((np.mean(session, axis=0))))\n",
    "        "
   ]
  },
  {
   "cell_type": "code",
   "execution_count": null,
   "metadata": {},
   "outputs": [],
   "source": [
    "plt.boxplot([healthy_boxplot_data, transgenic_boxplot_data, drug_boxplot_data],\n",
    "            labels=['healthy', 'transgenic', 'drug'])"
   ]
  },
  {
   "cell_type": "code",
   "execution_count": null,
   "metadata": {},
   "outputs": [],
   "source": [
    "healthy_boxplot_data = []\n",
    "transgenic_boxplot_data = []\n",
    "drug_boxplot_data = []\n",
    "for mouse, sessions in eccentricities_data.items():\n",
    "    for session_num, session in sessions.items():\n",
    "        if mouse in transgenic_mice_without_drug:\n",
    "            transgenic_boxplot_data.append(np.mean((np.mean(session, axis=0))))\n",
    "\n",
    "for mouse, sessions in eccentricities_data.items():\n",
    "    for session_num, session in sessions.items():\n",
    "        if mouse in [12, 13, 111, 115]:\n",
    "            drug_boxplot_data.append(np.mean((np.mean(session, axis=0))))\n",
    "\n",
    "for mouse, sessions in eccentricities_data.items():\n",
    "    for session_num, session in sessions.items():\n",
    "        if mouse in WT_mice:\n",
    "            healthy_boxplot_data.append(np.mean((np.mean(session, axis=0))))\n",
    "        "
   ]
  },
  {
   "cell_type": "code",
   "execution_count": null,
   "metadata": {},
   "outputs": [],
   "source": [
    "plt.boxplot([healthy_boxplot_data, transgenic_boxplot_data, drug_boxplot_data],\n",
    "            labels=['healthy', 'transgenic', 'drug'])"
   ]
  },
  {
   "cell_type": "markdown",
   "metadata": {},
   "source": [
    "### Building boxplots based on mice ###"
   ]
  },
  {
   "cell_type": "code",
   "execution_count": null,
   "metadata": {},
   "outputs": [],
   "source": [
    "healthy_boxplot_data = []\n",
    "transgenic_boxplot_data = []\n",
    "drug_boxplot_data = []\n",
    "\n",
    "for mouse, sessions in square_data.items():\n",
    "    mouse_boxplot_values = []\n",
    "    if mouse in transgenic_mice_without_drug:\n",
    "        for session_num, session in sessions.items():\n",
    "            mouse_boxplot_values.append(np.mean((np.mean(session, axis=0))))\n",
    "        transgenic_boxplot_data.append(np.mean(mouse_boxplot_values))\n",
    "\n",
    "\n",
    "for mouse, sessions in square_data.items():\n",
    "    mouse_boxplot_values = []\n",
    "    if mouse in transgenic_mice_drug:\n",
    "        for session_num, session in sessions.items():\n",
    "            mouse_boxplot_values.append(np.mean((np.mean(session, axis=0))))\n",
    "        drug_boxplot_data.append(np.mean(mouse_boxplot_values))\n",
    "\n",
    "for mouse, sessions in square_data.items():\n",
    "    mouse_boxplot_values = []\n",
    "    if mouse in WT_mice:\n",
    "        for session_num, session in sessions.items():\n",
    "            mouse_boxplot_values.append(np.mean((np.mean(session, axis=0))))\n",
    "        healthy_boxplot_data.append(np.mean(mouse_boxplot_values))\n",
    "        "
   ]
  },
  {
   "cell_type": "code",
   "execution_count": null,
   "metadata": {},
   "outputs": [],
   "source": [
    "plt.boxplot([healthy_boxplot_data, transgenic_boxplot_data, drug_boxplot_data],\n",
    "            labels=['healthy', 'transgenic', 'drug'])"
   ]
  },
  {
   "cell_type": "code",
   "execution_count": null,
   "metadata": {},
   "outputs": [],
   "source": [
    "healthy_boxplot_data = []\n",
    "transgenic_boxplot_data = []\n",
    "drug_boxplot_data = []\n",
    "\n",
    "for mouse, sessions in eccentricities_data.items():\n",
    "    mouse_boxplot_values = []\n",
    "    if mouse in transgenic_mice_without_drug:\n",
    "        for session_num, session in sessions.items():\n",
    "            mouse_boxplot_values.append(np.mean((np.mean(session, axis=0))))\n",
    "        transgenic_boxplot_data.append(np.mean(mouse_boxplot_values))\n",
    "\n",
    "\n",
    "for mouse, sessions in eccentricities_data.items():\n",
    "    mouse_boxplot_values = []\n",
    "    if mouse in transgenic_mice_drug:\n",
    "        for session_num, session in sessions.items():\n",
    "            mouse_boxplot_values.append(np.mean((np.mean(session, axis=0))))\n",
    "        drug_boxplot_data.append(np.mean(mouse_boxplot_values))\n",
    "\n",
    "for mouse, sessions in eccentricities_data.items():\n",
    "    mouse_boxplot_values = []\n",
    "    if mouse in WT_mice:\n",
    "        for session_num, session in sessions.items():\n",
    "            mouse_boxplot_values.append(np.mean((np.mean(session, axis=0))))\n",
    "        healthy_boxplot_data.append(np.mean(mouse_boxplot_values))\n",
    "        "
   ]
  },
  {
   "cell_type": "code",
   "execution_count": null,
   "metadata": {},
   "outputs": [],
   "source": [
    "plt.boxplot([healthy_boxplot_data, transgenic_boxplot_data, drug_boxplot_data],\n",
    "            labels=['healthy', 'transgenic', 'drug'])"
   ]
  },
  {
   "cell_type": "markdown",
   "metadata": {},
   "source": [
    "## Plotting graphs with error ellipses ##"
   ]
  },
  {
   "cell_type": "code",
   "execution_count": null,
   "metadata": {},
   "outputs": [],
   "source": [
    "plot_condition_data(pd.concat([data[3][0][['C1', 'C2', 'C3', 'condition']]]),\n",
    "                    ellipsoid_error=True,\n",
    "                    equal_limits=[-200, 200],\n",
    "                    ellipsoid_cls='run',\n",
    "                    render_manifold=True,\n",
    "                    render_only_first_projection=True)"
   ]
  },
  {
   "cell_type": "code",
   "execution_count": null,
   "metadata": {},
   "outputs": [],
   "source": [
    "plot_condition_data(data[12][1],\n",
    "                    ellipsoid_error=True,\n",
    "                    equal_limits=[-200, 200],\n",
    "                    ellipsoid_cls='sit',\n",
    "                    render_manifold=False,\n",
    "                    render_only_first_projection=True)"
   ]
  },
  {
   "cell_type": "code",
   "execution_count": null,
   "metadata": {},
   "outputs": [],
   "source": [
    "plot_condition_data(data[1][1],\n",
    "                    ellipsoid_error=True,\n",
    "                    equal_limits=[-200, 200],\n",
    "                    ellipsoid_cls='sit',\n",
    "                    render_manifold=False,\n",
    "                    render_only_first_projection=True)"
   ]
  }
 ],
 "metadata": {
  "kernelspec": {
   "display_name": ".venv",
   "language": "python",
   "name": "python3"
  },
  "language_info": {
   "codemirror_mode": {
    "name": "ipython",
    "version": 3
   },
   "file_extension": ".py",
   "mimetype": "text/x-python",
   "name": "python",
   "nbconvert_exporter": "python",
   "pygments_lexer": "ipython3",
   "version": "3.9.6"
  }
 },
 "nbformat": 4,
 "nbformat_minor": 2
}
